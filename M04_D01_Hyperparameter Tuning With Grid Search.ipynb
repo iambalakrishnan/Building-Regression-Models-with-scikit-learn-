{
 "cells": [
  {
   "cell_type": "code",
   "execution_count": 3,
   "id": "c68c53db",
   "metadata": {},
   "outputs": [],
   "source": [
    "import numpy as np\n",
    "import pandas as pd\n",
    "from matplotlib import pyplot as plt\n",
    "\n",
    "from sklearn.model_selection import train_test_split\n",
    "from sklearn.metrics import r2_score\n",
    "from sklearn.preprocessing import StandardScaler\n",
    "\n",
    "from sklearn.linear_model import Lasso\n",
    "from sklearn.neighbors import KNeighborsRegressor\n",
    "from sklearn.tree import DecisionTreeRegressor\n",
    "from sklearn.svm import SVR\n",
    "\n",
    "from sklearn.model_selection import GridSearchCV"
   ]
  },
  {
   "cell_type": "code",
   "execution_count": 4,
   "id": "186a71c0",
   "metadata": {},
   "outputs": [
    {
     "data": {
      "text/html": [
       "<div>\n",
       "<style scoped>\n",
       "    .dataframe tbody tr th:only-of-type {\n",
       "        vertical-align: middle;\n",
       "    }\n",
       "\n",
       "    .dataframe tbody tr th {\n",
       "        vertical-align: top;\n",
       "    }\n",
       "\n",
       "    .dataframe thead th {\n",
       "        text-align: right;\n",
       "    }\n",
       "</style>\n",
       "<table border=\"1\" class=\"dataframe\">\n",
       "  <thead>\n",
       "    <tr style=\"text-align: right;\">\n",
       "      <th></th>\n",
       "      <th>mpg</th>\n",
       "      <th>cylinders</th>\n",
       "      <th>displacement</th>\n",
       "      <th>horsepower</th>\n",
       "      <th>weight</th>\n",
       "      <th>acceleration</th>\n",
       "      <th>age</th>\n",
       "    </tr>\n",
       "  </thead>\n",
       "  <tbody>\n",
       "    <tr>\n",
       "      <th>0</th>\n",
       "      <td>12.0</td>\n",
       "      <td>8</td>\n",
       "      <td>350.0</td>\n",
       "      <td>180</td>\n",
       "      <td>4499</td>\n",
       "      <td>12.5</td>\n",
       "      <td>48</td>\n",
       "    </tr>\n",
       "    <tr>\n",
       "      <th>1</th>\n",
       "      <td>37.2</td>\n",
       "      <td>4</td>\n",
       "      <td>86.0</td>\n",
       "      <td>65</td>\n",
       "      <td>2019</td>\n",
       "      <td>16.4</td>\n",
       "      <td>41</td>\n",
       "    </tr>\n",
       "    <tr>\n",
       "      <th>2</th>\n",
       "      <td>21.0</td>\n",
       "      <td>6</td>\n",
       "      <td>199.0</td>\n",
       "      <td>90</td>\n",
       "      <td>2648</td>\n",
       "      <td>15.0</td>\n",
       "      <td>51</td>\n",
       "    </tr>\n",
       "    <tr>\n",
       "      <th>3</th>\n",
       "      <td>36.0</td>\n",
       "      <td>4</td>\n",
       "      <td>105.0</td>\n",
       "      <td>74</td>\n",
       "      <td>1980</td>\n",
       "      <td>15.3</td>\n",
       "      <td>39</td>\n",
       "    </tr>\n",
       "    <tr>\n",
       "      <th>4</th>\n",
       "      <td>25.0</td>\n",
       "      <td>4</td>\n",
       "      <td>110.0</td>\n",
       "      <td>87</td>\n",
       "      <td>2672</td>\n",
       "      <td>17.5</td>\n",
       "      <td>51</td>\n",
       "    </tr>\n",
       "  </tbody>\n",
       "</table>\n",
       "</div>"
      ],
      "text/plain": [
       "    mpg  cylinders  displacement  horsepower  weight  acceleration  age\n",
       "0  12.0          8         350.0         180    4499          12.5   48\n",
       "1  37.2          4          86.0          65    2019          16.4   41\n",
       "2  21.0          6         199.0          90    2648          15.0   51\n",
       "3  36.0          4         105.0          74    1980          15.3   39\n",
       "4  25.0          4         110.0          87    2672          17.5   51"
      ]
     },
     "execution_count": 4,
     "metadata": {},
     "output_type": "execute_result"
    }
   ],
   "source": [
    "data = pd.read_csv('automobile_processed.csv')\n",
    "data.head()"
   ]
  },
  {
   "cell_type": "code",
   "execution_count": 5,
   "id": "5f873a5d",
   "metadata": {},
   "outputs": [],
   "source": [
    "X = data.drop(['mpg', 'age'], axis = 1)\n",
    "\n",
    "Y = data['mpg']\n",
    "\n",
    "x_train, x_test, y_train, y_test = train_test_split(X, Y, test_size=0.2)"
   ]
  },
  {
   "cell_type": "code",
   "execution_count": 14,
   "id": "66cf5b7b",
   "metadata": {},
   "outputs": [
    {
     "data": {
      "text/plain": [
       "{'alpha': 0.6}"
      ]
     },
     "execution_count": 14,
     "metadata": {},
     "output_type": "execute_result"
    }
   ],
   "source": [
    "#Find the best value of constant which determines the magnitude of the regression\n",
    "\n",
    "parameters = {'alpha' : [0.2, 0.4, 0.6, 0.7, 0.8, 0.9, 1.0]}\n",
    "\n",
    "grid_search = GridSearchCV(Lasso(), parameters, cv=3, return_train_score = True)\n",
    "grid_search.fit(x_train, y_train)\n",
    "\n",
    "grid_search.best_params_"
   ]
  },
  {
   "cell_type": "markdown",
   "id": "bc5a5ce1",
   "metadata": {},
   "source": [
    "alpha is used to multiply the pelanty terms of the Lasso regression model, we have 7 values in alpha so 7 different models will be built with each different alpha values<br>\n",
    "\n",
    "CV = 3 -Use 3-fold cross validation to find the best model - split the dataset into 3 part, each model will be trained using three different runs 2 parts will be used for training and 1 part will be testing.<br>\n",
    "\n",
    "Your model will be scored and evaluated using default scoring mechanism used for the particular estimator object. In the case of regression models, the default scoring is the R square score."
   ]
  },
  {
   "cell_type": "code",
   "execution_count": 15,
   "id": "a903685f",
   "metadata": {},
   "outputs": [
    {
     "name": "stdout",
     "output_type": "stream",
     "text": [
      "parameters :  {'alpha': 0.2}\n",
      "mean_test_score :  0.6996758888558544\n",
      "Rank :  7\n",
      "parameters :  {'alpha': 0.4}\n",
      "mean_test_score :  0.7006414155380508\n",
      "Rank :  4\n",
      "parameters :  {'alpha': 0.6}\n",
      "mean_test_score :  0.7006997595305625\n",
      "Rank :  1\n",
      "parameters :  {'alpha': 0.7}\n",
      "mean_test_score :  0.7006736072902807\n",
      "Rank :  2\n",
      "parameters :  {'alpha': 0.8}\n",
      "mean_test_score :  0.7006466054656864\n",
      "Rank :  3\n",
      "parameters :  {'alpha': 0.9}\n",
      "mean_test_score :  0.7006183739319639\n",
      "Rank :  5\n",
      "parameters :  {'alpha': 1.0}\n",
      "mean_test_score :  0.7005889001887646\n",
      "Rank :  6\n"
     ]
    }
   ],
   "source": [
    "for i in range(len(parameters['alpha'])):\n",
    "    \n",
    "    print('parameters : ', grid_search.cv_results_['params'][i])\n",
    "    \n",
    "    print('mean_test_score : ', grid_search.cv_results_['mean_test_score'][i])\n",
    "    \n",
    "    print('Rank : ', grid_search.cv_results_['rank_test_score'][i])"
   ]
  },
  {
   "cell_type": "code",
   "execution_count": 16,
   "id": "dade47ba",
   "metadata": {},
   "outputs": [],
   "source": [
    "lasso_model = Lasso(alpha=grid_search.best_params_['alpha']).fit(x_train, y_train)"
   ]
  },
  {
   "cell_type": "code",
   "execution_count": 17,
   "id": "7c96c5ea",
   "metadata": {},
   "outputs": [
    {
     "name": "stdout",
     "output_type": "stream",
     "text": [
      "Training Score :  0.7046480677722311\n",
      "Test Score :  0.7091285918751662\n"
     ]
    }
   ],
   "source": [
    "y_pred = lasso_model.predict(x_test)\n",
    "\n",
    "print('Training Score : ',lasso_model.score(x_train, y_train))\n",
    "print('Test Score : ', r2_score(y_test, y_pred))"
   ]
  },
  {
   "cell_type": "markdown",
   "id": "ea4d2cec",
   "metadata": {},
   "source": [
    "<h3>Hyperparameter tuning on multiple different regression model"
   ]
  },
  {
   "cell_type": "code",
   "execution_count": 19,
   "id": "a0bc11ec",
   "metadata": {},
   "outputs": [
    {
     "data": {
      "text/plain": [
       "{'n_neighbors': 50}"
      ]
     },
     "execution_count": 19,
     "metadata": {},
     "output_type": "execute_result"
    }
   ],
   "source": [
    "parameters = {'n_neighbors' : [10, 12, 14, 18, 20, 25, 30, 35, 50]}\n",
    "\n",
    "grid_search = GridSearchCV(KNeighborsRegressor(), parameters, cv=3, return_train_score = True)\n",
    "grid_search.fit(x_train, y_train)\n",
    "\n",
    "grid_search.best_params_"
   ]
  },
  {
   "cell_type": "code",
   "execution_count": 20,
   "id": "4edb91c8",
   "metadata": {},
   "outputs": [
    {
     "name": "stdout",
     "output_type": "stream",
     "text": [
      "parameters :  {'n_neighbors': 10}\n",
      "mean_test_score :  0.6782973960878521\n",
      "Rank :  8\n",
      "parameters :  {'n_neighbors': 12}\n",
      "mean_test_score :  0.6747225405314263\n",
      "Rank :  9\n",
      "parameters :  {'n_neighbors': 14}\n",
      "mean_test_score :  0.6819013013876152\n",
      "Rank :  7\n",
      "parameters :  {'n_neighbors': 18}\n",
      "mean_test_score :  0.6859339775495327\n",
      "Rank :  6\n",
      "parameters :  {'n_neighbors': 20}\n",
      "mean_test_score :  0.6949225071248226\n",
      "Rank :  5\n",
      "parameters :  {'n_neighbors': 25}\n",
      "mean_test_score :  0.7027913513090455\n",
      "Rank :  4\n",
      "parameters :  {'n_neighbors': 30}\n",
      "mean_test_score :  0.7048712840139543\n",
      "Rank :  2\n",
      "parameters :  {'n_neighbors': 35}\n",
      "mean_test_score :  0.703590767856785\n",
      "Rank :  3\n",
      "parameters :  {'n_neighbors': 50}\n",
      "mean_test_score :  0.706301971560003\n",
      "Rank :  1\n"
     ]
    }
   ],
   "source": [
    "for i in range(len(parameters['n_neighbors'])):\n",
    "    \n",
    "    print('parameters : ', grid_search.cv_results_['params'][i])\n",
    "    \n",
    "    print('mean_test_score : ', grid_search.cv_results_['mean_test_score'][i])\n",
    "    \n",
    "    print('Rank : ', grid_search.cv_results_['rank_test_score'][i])"
   ]
  },
  {
   "cell_type": "code",
   "execution_count": 21,
   "id": "2ad30320",
   "metadata": {},
   "outputs": [],
   "source": [
    "kneighbors_model = KNeighborsRegressor(n_neighbors=grid_search.best_params_['n_neighbors']).fit(x_train, y_train)"
   ]
  },
  {
   "cell_type": "code",
   "execution_count": 22,
   "id": "91954a44",
   "metadata": {},
   "outputs": [
    {
     "name": "stdout",
     "output_type": "stream",
     "text": [
      "Training Score :  0.7213335488431176\n",
      "Test Score :  0.7058645102896566\n"
     ]
    }
   ],
   "source": [
    "y_pred = kneighbors_model.predict(x_test)\n",
    "\n",
    "print('Training Score : ',kneighbors_model.score(x_train, y_train))\n",
    "print('Test Score : ', r2_score(y_test, y_pred))"
   ]
  },
  {
   "cell_type": "markdown",
   "id": "d658b00b",
   "metadata": {},
   "source": [
    "<h3>Decision Tree Regressor"
   ]
  },
  {
   "cell_type": "code",
   "execution_count": 23,
   "id": "598ebf3f",
   "metadata": {},
   "outputs": [
    {
     "data": {
      "text/plain": [
       "{'max_depth': 2}"
      ]
     },
     "execution_count": 23,
     "metadata": {},
     "output_type": "execute_result"
    }
   ],
   "source": [
    "parameters = {'max_depth' : [1, 2, 3, 4, 5, 7, 8]}\n",
    "\n",
    "grid_search = GridSearchCV(DecisionTreeRegressor(), parameters, cv=3, return_train_score = True)\n",
    "grid_search.fit(x_train, y_train)\n",
    "\n",
    "grid_search.best_params_"
   ]
  },
  {
   "cell_type": "code",
   "execution_count": 24,
   "id": "46196e9d",
   "metadata": {},
   "outputs": [
    {
     "name": "stdout",
     "output_type": "stream",
     "text": [
      "parameters :  {'max_depth': 1}\n",
      "mean_test_score :  0.5893347678292989\n",
      "Rank :  5\n",
      "parameters :  {'max_depth': 2}\n",
      "mean_test_score :  0.6854673971611914\n",
      "Rank :  1\n",
      "parameters :  {'max_depth': 3}\n",
      "mean_test_score :  0.6847669438796132\n",
      "Rank :  2\n",
      "parameters :  {'max_depth': 4}\n",
      "mean_test_score :  0.6622569406259705\n",
      "Rank :  3\n",
      "parameters :  {'max_depth': 5}\n",
      "mean_test_score :  0.6257573830786636\n",
      "Rank :  4\n",
      "parameters :  {'max_depth': 7}\n",
      "mean_test_score :  0.5697944494975046\n",
      "Rank :  7\n",
      "parameters :  {'max_depth': 8}\n",
      "mean_test_score :  0.5790619456531001\n",
      "Rank :  6\n"
     ]
    }
   ],
   "source": [
    "for i in range(len(parameters['max_depth'])):\n",
    "    \n",
    "    print('parameters : ', grid_search.cv_results_['params'][i])\n",
    "    \n",
    "    print('mean_test_score : ', grid_search.cv_results_['mean_test_score'][i])\n",
    "    \n",
    "    print('Rank : ', grid_search.cv_results_['rank_test_score'][i])"
   ]
  },
  {
   "cell_type": "code",
   "execution_count": 25,
   "id": "247cac0d",
   "metadata": {},
   "outputs": [],
   "source": [
    "decisiontree_model = DecisionTreeRegressor(max_depth=grid_search.best_params_['max_depth']).fit(x_train, y_train)"
   ]
  },
  {
   "cell_type": "code",
   "execution_count": 26,
   "id": "99f95544",
   "metadata": {},
   "outputs": [
    {
     "name": "stdout",
     "output_type": "stream",
     "text": [
      "Training Score :  0.7357933420986243\n",
      "Test Score :  0.6335150802108107\n"
     ]
    }
   ],
   "source": [
    "y_pred = decisiontree_model.predict(x_test)\n",
    "\n",
    "print('Training Score : ',decisiontree_model.score(x_train, y_train))\n",
    "print('Test Score : ', r2_score(y_test, y_pred))"
   ]
  },
  {
   "cell_type": "markdown",
   "id": "ea374039",
   "metadata": {},
   "source": [
    "<h3>Support Vector Regressor"
   ]
  },
  {
   "cell_type": "code",
   "execution_count": 27,
   "id": "734a2486",
   "metadata": {},
   "outputs": [
    {
     "data": {
      "text/plain": [
       "{'C': 0.3, 'epsilon': 0.05}"
      ]
     },
     "execution_count": 27,
     "metadata": {},
     "output_type": "execute_result"
    }
   ],
   "source": [
    "#Epsilon - size of the margin\n",
    "#C - penalty that apply on outlier points that lies outside of the margin\n",
    "#GridSearch will perform totally 4*2 = 8 models\n",
    "\n",
    "\n",
    "parameters = {'epsilon' : [0.05, 0.1, 0.2, 0.3],\n",
    "             'C':[0.2, 0.3]}\n",
    "\n",
    "grid_search = GridSearchCV(SVR(kernel='linear'), parameters, cv=3, return_train_score = True)\n",
    "grid_search.fit(x_train, y_train)\n",
    "\n",
    "grid_search.best_params_"
   ]
  },
  {
   "cell_type": "code",
   "execution_count": 29,
   "id": "6aafbba1",
   "metadata": {},
   "outputs": [],
   "source": [
    "svr_model = SVR(kernel='linear', \n",
    "                epsilon=grid_search.best_params_['epsilon'],\n",
    "                C=grid_search.best_params_['C']).fit(x_train, y_train)"
   ]
  },
  {
   "cell_type": "code",
   "execution_count": 30,
   "id": "f2c65550",
   "metadata": {},
   "outputs": [
    {
     "name": "stdout",
     "output_type": "stream",
     "text": [
      "Training Score :  0.6847961812231318\n",
      "Test Score :  0.6753327953196764\n"
     ]
    }
   ],
   "source": [
    "y_pred = svr_model.predict(x_test)\n",
    "\n",
    "print('Training Score : ',svr_model.score(x_train, y_train))\n",
    "print('Test Score : ', r2_score(y_test, y_pred))"
   ]
  },
  {
   "cell_type": "code",
   "execution_count": null,
   "id": "98f79384",
   "metadata": {},
   "outputs": [],
   "source": []
  }
 ],
 "metadata": {
  "kernelspec": {
   "display_name": "Python 3",
   "language": "python",
   "name": "python3"
  },
  "language_info": {
   "codemirror_mode": {
    "name": "ipython",
    "version": 3
   },
   "file_extension": ".py",
   "mimetype": "text/x-python",
   "name": "python",
   "nbconvert_exporter": "python",
   "pygments_lexer": "ipython3",
   "version": "3.8.10"
  }
 },
 "nbformat": 4,
 "nbformat_minor": 5
}
